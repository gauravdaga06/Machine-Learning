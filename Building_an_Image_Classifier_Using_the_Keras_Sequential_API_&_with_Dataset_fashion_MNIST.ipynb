{
  "nbformat": 4,
  "nbformat_minor": 0,
  "metadata": {
    "colab": {
      "name": "Building an Image Classifier Using the Keras  Sequential API & with Dataset fashion MNIST.ipynb",
      "provenance": [],
      "collapsed_sections": [],
      "authorship_tag": "ABX9TyM1FyC+hKOd661iBaDY3VrM",
      "include_colab_link": true
    },
    "kernelspec": {
      "name": "python3",
      "display_name": "Python 3"
    }
  },
  "cells": [
    {
      "cell_type": "markdown",
      "metadata": {
        "id": "view-in-github",
        "colab_type": "text"
      },
      "source": [
        "<a href=\"https://colab.research.google.com/github/gauravdaga06/Machine-Learning/blob/master/Building_an_Image_Classifier_Using_the_Keras_Sequential_API_%26_with_Dataset_fashion_MNIST.ipynb\" target=\"_parent\"><img src=\"https://colab.research.google.com/assets/colab-badge.svg\" alt=\"Open In Colab\"/></a>"
      ]
    },
    {
      "cell_type": "code",
      "metadata": {
        "id": "zdwJ2cP7Brdd"
      },
      "source": [
        "# Python ≥3.5 is required\n",
        "import sys\n",
        "assert sys.version_info >= (3, 5)\n",
        "\n",
        "# Scikit-Learn ≥0.20 is required\n",
        "import sklearn\n",
        "assert sklearn.__version__ >= \"0.20\"\n",
        "\n",
        "try:\n",
        "    # %tensorflow_version only exists in Colab.\n",
        "    %tensorflow_version 2.x\n",
        "except Exception:\n",
        "    pass\n",
        "\n",
        "# TensorFlow ≥2.0 is required\n",
        "import tensorflow as tf\n",
        "assert tf.__version__ >= \"2.0\"\n",
        "\n",
        "# Common imports\n",
        "import numpy as np\n",
        "import os\n",
        "import pandas as pd\n",
        "\n",
        "# to make this notebook's output stable across runs\n",
        "np.random.seed(42)\n",
        "\n",
        "# To plot pretty figures\n",
        "%matplotlib inline\n",
        "import matplotlib as mpl\n",
        "import matplotlib.pyplot as plt\n",
        "mpl.rc('axes', labelsize=14)\n",
        "mpl.rc('xtick', labelsize=12)\n",
        "mpl.rc('ytick', labelsize=12)\n",
        "\n",
        "# Where to save the figures\n",
        "PROJECT_ROOT_DIR = \".\"\n",
        "CHAPTER_ID = \"ann\"\n",
        "IMAGES_PATH = os.path.join(PROJECT_ROOT_DIR, \"images\", CHAPTER_ID)\n",
        "os.makedirs(IMAGES_PATH, exist_ok=True)\n",
        "\n",
        "def save_fig(fig_id, tight_layout=True, fig_extension=\"png\", resolution=300):\n",
        "    path = os.path.join(IMAGES_PATH, fig_id + \".\" + fig_extension)\n",
        "    print(\"Saving figure\", fig_id)\n",
        "    if tight_layout:\n",
        "        plt.tight_layout()\n",
        "    plt.savefig(path, format=fig_extension, dpi=resolution)\n",
        "\n",
        "# Ignore useless warnings (see SciPy issue #5998)\n",
        "import warnings\n",
        "warnings.filterwarnings(action=\"ignore\", message=\"^internal gelsd\")"
      ],
      "execution_count": 1,
      "outputs": []
    },
    {
      "cell_type": "code",
      "metadata": {
        "id": "vAngeRXvCRAq",
        "outputId": "6cf04611-0b2b-4d58-ba45-c0180620071a",
        "colab": {
          "base_uri": "https://localhost:8080/",
          "height": 34
        }
      },
      "source": [
        "from sklearn.datasets import load_iris\n",
        "from sklearn.linear_model import Perceptron\n",
        "\n",
        "iris = load_iris()\n",
        "X = iris.data[:,2:]        #taking lenght and width column\n",
        "y = (iris.target ==0)         #selecting Iris Sentosa\n",
        "\n",
        "per_clf = Perceptron()\n",
        "per_clf.fit(X,y)\n",
        "\n",
        "y_pred = per_clf.predict([[2, 0.5]])\n",
        "\n",
        "print(y_pred)                  #output will be true or false whether the given features are of Iris Sentosa or not"
      ],
      "execution_count": 2,
      "outputs": [
        {
          "output_type": "stream",
          "text": [
            "[False]\n"
          ],
          "name": "stdout"
        }
      ]
    },
    {
      "cell_type": "markdown",
      "metadata": {
        "id": "QDBOcuTuC0iG"
      },
      "source": [
        "**Activation functions**"
      ]
    },
    {
      "cell_type": "code",
      "metadata": {
        "id": "sFHMXxqAEfbz"
      },
      "source": [
        "def sigmoid(z):\n",
        "    return 1 / (1 + np.exp(-z))\n",
        "\n",
        "def relu(z):\n",
        "    return np.maximum(0, z)\n",
        "\n",
        "def derivative(f, z, eps=0.000001):\n",
        "    return (f(z + eps) - f(z - eps))/(2 * eps)"
      ],
      "execution_count": 3,
      "outputs": []
    },
    {
      "cell_type": "code",
      "metadata": {
        "id": "c-kfy8_cEiMw",
        "outputId": "cea350c4-92b4-45b3-e46c-0a3dc624d55f",
        "colab": {
          "base_uri": "https://localhost:8080/",
          "height": 559
        }
      },
      "source": [
        "z = np.linspace(-5, 5, 200)\n",
        "\n",
        "plt.figure(figsize=(11,4))\n",
        "\n",
        "plt.subplot(121)\n",
        "plt.plot(z, np.sign(z), \"r-\", linewidth=1, label=\"Step\")\n",
        "plt.plot(z,sigmoid(z),\"g--\", linewidth=1, label=\"Sigmoid\")\n",
        "plt.plot(z,relu(z),\"m-.\", linewidth=1, label=\"Relu\")\n",
        "plt.plot(z,np.tanh(z),\"b-\", linewidth=1, label=\"tanh\")\n",
        "\n",
        "plt.grid(b=True, which='major', axis='both')\n",
        "plt.legend(loc =\"center right\")\n",
        "\n",
        "plt.title(\"Activation functions\", fontsize=14)\n",
        "plt.axis([-5, 5, -1.2, 1.2])\n",
        "\n",
        "\n",
        "\n",
        "plt.subplot(122)\n",
        "plt.plot(z, derivative(np.sign, z), \"r-\", linewidth=1, label=\"Step\")\n",
        "plt.plot(0, 0, \"ro\", markersize=5)\n",
        "plt.plot(0, 0, \"rx\", markersize=10)\n",
        "plt.plot(z, derivative(sigmoid, z), \"g--\", linewidth=2, label=\"Sigmoid\")\n",
        "plt.plot(z, derivative(np.tanh, z), \"b-\", linewidth=2, label=\"Tanh\")\n",
        "plt.plot(z, derivative(relu, z), \"m-.\", linewidth=2, label=\"ReLU\")\n",
        "plt.grid(True)\n",
        "plt.legend(loc=\"Top Left\", fontsize=10)\n",
        "plt.title(\"Derivatives\", fontsize=14)\n",
        "plt.axis([-5, 5, -0.2, 1.2])\n",
        "\n",
        "\n",
        "save_fig(\"activation_functions_plot\")\n",
        "plt.show()"
      ],
      "execution_count": 4,
      "outputs": [
        {
          "output_type": "stream",
          "text": [
            "Saving figure activation_functions_plot\n"
          ],
          "name": "stdout"
        },
        {
          "output_type": "stream",
          "text": [
            "/usr/local/lib/python3.6/dist-packages/ipykernel_launcher.py:27: MatplotlibDeprecationWarning: Unrecognized location 'Top Left'. Falling back on 'best'; valid locations are\n",
            "\tbest\n",
            "\tupper right\n",
            "\tupper left\n",
            "\tlower left\n",
            "\tlower right\n",
            "\tright\n",
            "\tcenter left\n",
            "\tcenter right\n",
            "\tlower center\n",
            "\tupper center\n",
            "\tcenter\n",
            "This will raise an exception in 3.3.\n"
          ],
          "name": "stderr"
        },
        {
          "output_type": "display_data",
          "data": {
            "image/png": "[encoded data removed]",
            "text/plain": [
              "<Figure size 792x288 with 2 Axes>"
            ]
          },
          "metadata": {
            "tags": [],
            "needs_background": "light"
          }
        }
      ]
    },
    {
      "cell_type": "code",
      "metadata": {
        "id": "l5cZKX_9LhZC"
      },
      "source": [
        "def heaviside(z):\n",
        "    return (z >= 0).astype(z.dtype)\n",
        "\n",
        "def mlp_xor(x1, x2, activation=heaviside):\n",
        "    return activation(-activation(x1 + x2 - 1.5) + activation(x1 + x2 - 0.5) - 0.5)"
      ],
      "execution_count": 5,
      "outputs": []
    },
    {
      "cell_type": "code",
      "metadata": {
        "id": "fOiuSFXcJJp0",
        "outputId": "47495559-fee0-4af1-9154-52f981b74c3e",
        "colab": {
          "base_uri": "https://localhost:8080/",
          "height": 285
        }
      },
      "source": [
        "\n",
        "x1s = np.linspace(-0.2, 1.2, 100)\n",
        "x2s = np.linspace(-0.2, 1.2, 100)\n",
        "x1, x2 = np.meshgrid(x1s, x2s)\n",
        "\n",
        "z1 = mlp_xor(x1, x2, activation=heaviside)\n",
        "z2 = mlp_xor(x1, x2, activation=sigmoid)\n",
        "\n",
        "plt.figure(figsize=(10,4))\n",
        "\n",
        "plt.subplot(121)\n",
        "plt.contourf(x1, x2, z1)\n",
        "plt.plot([0, 1], [0, 1], \"gs\", markersize=20)\n",
        "plt.plot([0, 1], [1, 0], \"y^\", markersize=20)\n",
        "plt.title(\"Activation function: heaviside\", fontsize=14)\n",
        "plt.grid(True)\n",
        "\n",
        "plt.subplot(122)\n",
        "plt.contourf(x1, x2, z2)\n",
        "plt.plot([0, 1], [0, 1], \"gs\", markersize=20)\n",
        "plt.plot([0, 1], [1, 0], \"y^\", markersize=20)\n",
        "plt.title(\"Activation function: sigmoid\", fontsize=14)\n",
        "plt.grid(True)"
      ],
      "execution_count": 6,
      "outputs": [
        {
          "output_type": "display_data",
          "data": {
            "image/png": "[encoded data removed]",
            "text/plain": [
              "<Figure size 720x288 with 2 Axes>"
            ]
          },
          "metadata": {
            "tags": [],
            "needs_background": "light"
          }
        }
      ]
    },
    {
      "cell_type": "markdown",
      "metadata": {
        "id": "w4ZOQuw2Lb5S"
      },
      "source": [
        "**Building an Image Classifier**"
      ]
    },
    {
      "cell_type": "markdown",
      "metadata": {
        "id": "1KFTfIBENED1"
      },
      "source": [
        "importing datasets"
      ]
    },
    {
      "cell_type": "code",
      "metadata": {
        "id": "PE9tInBsYXYV",
        "outputId": "b53f7580-83e9-4d5a-e6a0-c8cb0345e506",
        "colab": {
          "base_uri": "https://localhost:8080/",
          "height": 34
        }
      },
      "source": [
        "import tensorflow as tf\n",
        "tf.__version__"
      ],
      "execution_count": 7,
      "outputs": [
        {
          "output_type": "execute_result",
          "data": {
            "application/vnd.google.colaboratory.intrinsic+json": {
              "type": "string"
            },
            "text/plain": [
              "'2.3.0'"
            ]
          },
          "metadata": {
            "tags": []
          },
          "execution_count": 7
        }
      ]
    },
    {
      "cell_type": "code",
      "metadata": {
        "id": "nGMMrGSlYhId",
        "outputId": "69e90ce2-6a8a-4fe3-a3f1-979acd43d261",
        "colab": {
          "base_uri": "https://localhost:8080/",
          "height": 34
        }
      },
      "source": [
        "from tensorflow import keras\n",
        "keras.__version__"
      ],
      "execution_count": 8,
      "outputs": [
        {
          "output_type": "execute_result",
          "data": {
            "application/vnd.google.colaboratory.intrinsic+json": {
              "type": "string"
            },
            "text/plain": [
              "'2.4.0'"
            ]
          },
          "metadata": {
            "tags": []
          },
          "execution_count": 8
        }
      ]
    },
    {
      "cell_type": "code",
      "metadata": {
        "id": "Psc0P8LlYt2h"
      },
      "source": [
        "fashion_mnist =keras.datasets.fashion_mnist\n",
        "(X_train_full, y_train_full), (X_test, y_test) = fashion_mnist.load_data()"
      ],
      "execution_count": 9,
      "outputs": []
    },
    {
      "cell_type": "code",
      "metadata": {
        "id": "ShxndY1mZH65",
        "outputId": "04918a76-b39a-4aa0-da8f-67a6debd54eb",
        "colab": {
          "base_uri": "https://localhost:8080/",
          "height": 34
        }
      },
      "source": [
        "X_train_full.shape,X_train_full.dtype"
      ],
      "execution_count": 10,
      "outputs": [
        {
          "output_type": "execute_result",
          "data": {
            "text/plain": [
              "((60000, 28, 28), dtype('uint8'))"
            ]
          },
          "metadata": {
            "tags": []
          },
          "execution_count": 10
        }
      ]
    },
    {
      "cell_type": "code",
      "metadata": {
        "id": "9Jyc62HCZK0p",
        "outputId": "8cdb0ff3-d5bb-4900-e93f-700405526343",
        "colab": {
          "base_uri": "https://localhost:8080/",
          "height": 34
        }
      },
      "source": [
        "X_test.shape,X_test.dtype"
      ],
      "execution_count": 11,
      "outputs": [
        {
          "output_type": "execute_result",
          "data": {
            "text/plain": [
              "((10000, 28, 28), dtype('uint8'))"
            ]
          },
          "metadata": {
            "tags": []
          },
          "execution_count": 11
        }
      ]
    },
    {
      "cell_type": "markdown",
      "metadata": {
        "id": "ZSgfTvvPaRJM"
      },
      "source": [
        "These means We have Divided the fashion MNIST dataset into 2 parts training and testing as  Training: 60,000,Testing: 10,000"
      ]
    },
    {
      "cell_type": "markdown",
      "metadata": {
        "id": "iY57ts7BaO92"
      },
      "source": [
        "Additionally, since we are going to train the neural network using Gradient Descent, we must scale the input features. For simplicity."
      ]
    },
    {
      "cell_type": "markdown",
      "metadata": {
        "id": "4Bav0V_innm8"
      },
      "source": [
        "Scalling the Dataset"
      ]
    },
    {
      "cell_type": "code",
      "metadata": {
        "id": "sTK8rPA5lLLj"
      },
      "source": [
        "X_valid,X_train =X_train_full[:5000]/255.0 ,X_train_full[5000:]/255.0\n",
        "y_valid,y_train =y_train_full[:5000],y_train_full[5000:]\n",
        "\n",
        "X_test = X_test/255"
      ],
      "execution_count": 12,
      "outputs": []
    },
    {
      "cell_type": "code",
      "metadata": {
        "id": "fRH4-iSXngNy"
      },
      "source": [
        "class_names = [\"T-shirt/top\", \"Trouser\", \"Pullover\", \"Dress\", \"Coat\", \"Sandal\", \"Shirt\", \"Sneaker\", \"Bag\", \"Ankle boot\"]"
      ],
      "execution_count": 13,
      "outputs": []
    },
    {
      "cell_type": "code",
      "metadata": {
        "id": "Q65i9Z7Ho6G9",
        "outputId": "378e11f6-9792-4009-b8cf-6651b8448f0f",
        "colab": {
          "base_uri": "https://localhost:8080/",
          "height": 265
        }
      },
      "source": [
        "\n",
        "plt.imshow(X_train[0])\n",
        "plt.axis('off')\n",
        "\n",
        "class_names[y_train[0]]\n"
      ],
      "execution_count": 14,
      "outputs": [
        {
          "output_type": "execute_result",
          "data": {
            "application/vnd.google.colaboratory.intrinsic+json": {
              "type": "string"
            },
            "text/plain": [
              "'Coat'"
            ]
          },
          "metadata": {
            "tags": []
          },
          "execution_count": 14
        },
        {
          "output_type": "display_data",
          "data": {
            "image/png": "[encoded data removed]",
            "text/plain": [
              "<Figure size 432x288 with 1 Axes>"
            ]
          },
          "metadata": {
            "tags": [],
            "needs_background": "light"
          }
        }
      ]
    },
    {
      "cell_type": "code",
      "metadata": {
        "id": "dxlYLFNyprKr",
        "outputId": "5039396f-d8d5-411f-ff83-5820fe696e3a",
        "colab": {
          "base_uri": "https://localhost:8080/",
          "height": 34
        }
      },
      "source": [
        "y_valid.shape"
      ],
      "execution_count": 15,
      "outputs": [
        {
          "output_type": "execute_result",
          "data": {
            "text/plain": [
              "(5000,)"
            ]
          },
          "metadata": {
            "tags": []
          },
          "execution_count": 15
        }
      ]
    },
    {
      "cell_type": "code",
      "metadata": {
        "id": "O9yAkyp8qxHU",
        "outputId": "f5cc5d63-8d9e-4cce-c71c-ea30a5d30f96",
        "colab": {
          "base_uri": "https://localhost:8080/",
          "height": 34
        }
      },
      "source": [
        "y_valid"
      ],
      "execution_count": 16,
      "outputs": [
        {
          "output_type": "execute_result",
          "data": {
            "text/plain": [
              "array([9, 0, 0, ..., 5, 8, 3], dtype=uint8)"
            ]
          },
          "metadata": {
            "tags": []
          },
          "execution_count": 16
        }
      ]
    },
    {
      "cell_type": "code",
      "metadata": {
        "id": "kJnpjwK9q_m7",
        "outputId": "897088e2-3c40-4663-9c63-7b6fb8bd1bb8",
        "colab": {
          "base_uri": "https://localhost:8080/",
          "height": 303
        }
      },
      "source": [
        "rows=4\n",
        "cols = 10\n",
        "plt.figure(figsize=(cols * 1.2, rows * 1.2))\n",
        "\n",
        "for row in range(rows):\n",
        "  for col in range(cols):\n",
        "    index = cols*row+col\n",
        "    plt.subplot(rows,cols, index + 1)\n",
        "    plt.imshow(X_train[index],cmap=\"binary\", interpolation=\"nearest\")\n",
        "    plt.axis('off')\n",
        "    \n",
        "    plt.title(class_names[y_train[index]], fontsize=12)\n",
        "plt.subplots_adjust(wspace=0.2, hspace=0.5)\n",
        "save_fig('fashion_mnist_plot', tight_layout=False)\n",
        "plt.show()"
      ],
      "execution_count": 17,
      "outputs": [
        {
          "output_type": "stream",
          "text": [
            "Saving figure fashion_mnist_plot\n"
          ],
          "name": "stdout"
        },
        {
          "output_type": "display_data",
          "data": {
            "image/png": "[encoded data removed]",
            "text/plain": [
              "<Figure size 864x345.6 with 40 Axes>"
            ]
          },
          "metadata": {
            "tags": [],
            "needs_background": "light"
          }
        }
      ]
    },
    {
      "cell_type": "code",
      "metadata": {
        "id": "c6hNEYB0sPUB"
      },
      "source": [
        "model = keras.models.Sequential()\n",
        "model.add(keras.layers.Flatten(input_shape=[28, 28]))\n",
        "model.add(keras.layers.Dense(300,activation=\"relu\"))\n",
        "model.add(keras.layers.Dense(100,activation=\"relu\"))\n",
        "model.add(keras.layers.Dense(10,activation=\"softmax\"))"
      ],
      "execution_count": 18,
      "outputs": []
    },
    {
      "cell_type": "code",
      "metadata": {
        "id": "y1XI40z1Avbn",
        "outputId": "d8061791-2a30-402e-b76c-6b74b33a89c4",
        "colab": {
          "base_uri": "https://localhost:8080/",
          "height": 533
        }
      },
      "source": [
        "keras.utils.plot_model(model, \"my_fashion_mnist_model.png\", show_shapes=True)"
      ],
      "execution_count": 19,
      "outputs": [
        {
          "output_type": "execute_result",
          "data": {
            "image/png": "[encoded data removed]",
            "text/plain": [
              "<IPython.core.display.Image object>"
            ]
          },
          "metadata": {
            "tags": []
          },
          "execution_count": 19
        }
      ]
    },
    {
      "cell_type": "code",
      "metadata": {
        "id": "-kVafStXC9nS",
        "outputId": "e3a3505b-04ce-4a5a-906a-9d993c4a5c06",
        "colab": {
          "base_uri": "https://localhost:8080/",
          "height": 294
        }
      },
      "source": [
        "model.summary()"
      ],
      "execution_count": 20,
      "outputs": [
        {
          "output_type": "stream",
          "text": [
            "Model: \"sequential\"\n",
            "_________________________________________________________________\n",
            "Layer (type)                 Output Shape              Param #   \n",
            "=================================================================\n",
            "flatten (Flatten)            (None, 784)               0         \n",
            "_________________________________________________________________\n",
            "dense (Dense)                (None, 300)               235500    \n",
            "_________________________________________________________________\n",
            "dense_1 (Dense)              (None, 100)               30100     \n",
            "_________________________________________________________________\n",
            "dense_2 (Dense)              (None, 10)                1010      \n",
            "=================================================================\n",
            "Total params: 266,610\n",
            "Trainable params: 266,610\n",
            "Non-trainable params: 0\n",
            "_________________________________________________________________\n"
          ],
          "name": "stdout"
        }
      ]
    },
    {
      "cell_type": "markdown",
      "metadata": {
        "id": "ZEJtVNk0F3l1"
      },
      "source": [
        "Note that Dense layers often have a lot of parameters. For example, the first hidden layer has 784 × 300 connection weights, plus 300 bias terms, which adds up to 235,500 parameters\n",
        "This gives the model quite a lot of flexibility to fit the training data, but it also means that the model runs the risk of overfitting, especially when you do not have a lot of training data.\n",
        "\n",
        "\n",
        "\n",
        "\n"
      ]
    },
    {
      "cell_type": "code",
      "metadata": {
        "id": "Au2JZuWEGaj7",
        "outputId": "7023cdb5-aaa0-4234-8911-eff4932b37bb",
        "colab": {
          "base_uri": "https://localhost:8080/",
          "height": 86
        }
      },
      "source": [
        "model.layers      #getting list of Layers"
      ],
      "execution_count": 21,
      "outputs": [
        {
          "output_type": "execute_result",
          "data": {
            "text/plain": [
              "[<tensorflow.python.keras.layers.core.Flatten at 0x7f6f788d6128>,\n",
              " <tensorflow.python.keras.layers.core.Dense at 0x7f6f78902940>,\n",
              " <tensorflow.python.keras.layers.core.Dense at 0x7f6f7888f940>,\n",
              " <tensorflow.python.keras.layers.core.Dense at 0x7f6f7888fc88>]"
            ]
          },
          "metadata": {
            "tags": []
          },
          "execution_count": 21
        }
      ]
    },
    {
      "cell_type": "code",
      "metadata": {
        "id": "L9njTjhQG16L",
        "outputId": "e91a7940-6106-4084-eb5a-5f07f2a34ccd",
        "colab": {
          "base_uri": "https://localhost:8080/",
          "height": 52
        }
      },
      "source": [
        "print(model.layers[1])\n",
        "print(model.layers[1].name)"
      ],
      "execution_count": 22,
      "outputs": [
        {
          "output_type": "stream",
          "text": [
            "<tensorflow.python.keras.layers.core.Dense object at 0x7f6f78902940>\n",
            "dense\n"
          ],
          "name": "stdout"
        }
      ]
    },
    {
      "cell_type": "code",
      "metadata": {
        "id": "L8WZ1k7PG95_"
      },
      "source": [
        "hidden1 = model.layers[1]"
      ],
      "execution_count": 23,
      "outputs": []
    },
    {
      "cell_type": "code",
      "metadata": {
        "id": "q-JDYojAHD62",
        "outputId": "178f8678-aee3-4118-ee26-8f938310940a",
        "colab": {
          "base_uri": "https://localhost:8080/",
          "height": 34
        }
      },
      "source": [
        "hidden1.name"
      ],
      "execution_count": 24,
      "outputs": [
        {
          "output_type": "execute_result",
          "data": {
            "application/vnd.google.colaboratory.intrinsic+json": {
              "type": "string"
            },
            "text/plain": [
              "'dense'"
            ]
          },
          "metadata": {
            "tags": []
          },
          "execution_count": 24
        }
      ]
    },
    {
      "cell_type": "code",
      "metadata": {
        "id": "Ady0VuDEHF1L"
      },
      "source": [
        "weights,biases =hidden1.get_weights()"
      ],
      "execution_count": 25,
      "outputs": []
    },
    {
      "cell_type": "code",
      "metadata": {
        "id": "uTQYrxtPH9ge",
        "outputId": "01d7512a-2fbb-45f3-af86-cd05e986951d",
        "colab": {
          "base_uri": "https://localhost:8080/",
          "height": 259
        }
      },
      "source": [
        "print(weights)\n",
        "print(weights.shape)"
      ],
      "execution_count": 26,
      "outputs": [
        {
          "output_type": "stream",
          "text": [
            "[[ 0.07232748 -0.04555056 -0.05905041 ...  0.00591171  0.01020024\n",
            "   0.0237498 ]\n",
            " [ 0.04829509  0.0596489  -0.05889783 ...  0.02697727 -0.05764695\n",
            "   0.07045723]\n",
            " [ 0.0667295   0.05643842  0.07013848 ... -0.00887565 -0.02303008\n",
            "  -0.05695267]\n",
            " ...\n",
            " [ 0.06390277 -0.04783479 -0.05801734 ...  0.0722091   0.01609776\n",
            "  -0.05669204]\n",
            " [-0.06809802  0.03941449  0.0453582  ...  0.07215968 -0.06763424\n",
            "  -0.02400077]\n",
            " [ 0.01894495  0.05703025  0.06286527 ...  0.00675698 -0.01423967\n",
            "   0.02180855]]\n",
            "(784, 300)\n"
          ],
          "name": "stdout"
        }
      ]
    },
    {
      "cell_type": "code",
      "metadata": {
        "id": "r4kbvet5ICQY",
        "outputId": "c5354b2d-65a7-480c-f86e-401e26241b37",
        "colab": {
          "base_uri": "https://localhost:8080/",
          "height": 259
        }
      },
      "source": [
        "print(biases)\n",
        "print(biases.shape)"
      ],
      "execution_count": 27,
      "outputs": [
        {
          "output_type": "stream",
          "text": [
            "[0. 0. 0. 0. 0. 0. 0. 0. 0. 0. 0. 0. 0. 0. 0. 0. 0. 0. 0. 0. 0. 0. 0. 0.\n",
            " 0. 0. 0. 0. 0. 0. 0. 0. 0. 0. 0. 0. 0. 0. 0. 0. 0. 0. 0. 0. 0. 0. 0. 0.\n",
            " 0. 0. 0. 0. 0. 0. 0. 0. 0. 0. 0. 0. 0. 0. 0. 0. 0. 0. 0. 0. 0. 0. 0. 0.\n",
            " 0. 0. 0. 0. 0. 0. 0. 0. 0. 0. 0. 0. 0. 0. 0. 0. 0. 0. 0. 0. 0. 0. 0. 0.\n",
            " 0. 0. 0. 0. 0. 0. 0. 0. 0. 0. 0. 0. 0. 0. 0. 0. 0. 0. 0. 0. 0. 0. 0. 0.\n",
            " 0. 0. 0. 0. 0. 0. 0. 0. 0. 0. 0. 0. 0. 0. 0. 0. 0. 0. 0. 0. 0. 0. 0. 0.\n",
            " 0. 0. 0. 0. 0. 0. 0. 0. 0. 0. 0. 0. 0. 0. 0. 0. 0. 0. 0. 0. 0. 0. 0. 0.\n",
            " 0. 0. 0. 0. 0. 0. 0. 0. 0. 0. 0. 0. 0. 0. 0. 0. 0. 0. 0. 0. 0. 0. 0. 0.\n",
            " 0. 0. 0. 0. 0. 0. 0. 0. 0. 0. 0. 0. 0. 0. 0. 0. 0. 0. 0. 0. 0. 0. 0. 0.\n",
            " 0. 0. 0. 0. 0. 0. 0. 0. 0. 0. 0. 0. 0. 0. 0. 0. 0. 0. 0. 0. 0. 0. 0. 0.\n",
            " 0. 0. 0. 0. 0. 0. 0. 0. 0. 0. 0. 0. 0. 0. 0. 0. 0. 0. 0. 0. 0. 0. 0. 0.\n",
            " 0. 0. 0. 0. 0. 0. 0. 0. 0. 0. 0. 0. 0. 0. 0. 0. 0. 0. 0. 0. 0. 0. 0. 0.\n",
            " 0. 0. 0. 0. 0. 0. 0. 0. 0. 0. 0. 0.]\n",
            "(300,)\n"
          ],
          "name": "stdout"
        }
      ]
    },
    {
      "cell_type": "code",
      "metadata": {
        "id": "ilCaANysIDYL"
      },
      "source": [
        "model.compile(loss=\"sparse_categorical_crossentropy\", optimizer=\"sgd\", metrics=[\"accuracy\"])"
      ],
      "execution_count": 28,
      "outputs": []
    },
    {
      "cell_type": "markdown",
      "metadata": {
        "id": "nR_UjxACK2RK"
      },
      "source": [
        "sparse_categorical_cross entropy\" loss because we have Scattered Lables.      \n",
        "And We have Used SoftMax because We Have to classify the items into n number of categories.   \n",
        "Regarding the optimizer, \"sgd\" means that we will train the model using simple Stochastic Gradient Descent"
      ]
    },
    {
      "cell_type": "code",
      "metadata": {
        "id": "we9_R815PxDN",
        "outputId": "36724cc3-a966-4d0b-fb19-76d4680caf78",
        "colab": {
          "base_uri": "https://localhost:8080/",
          "height": 1000
        }
      },
      "source": [
        "history = model.fit(X_train,y_train,epochs=30,validation_data=(X_valid,y_valid))"
      ],
      "execution_count": 29,
      "outputs": [
        {
          "output_type": "stream",
          "text": [
            "Epoch 1/30\n",
            "1719/1719 [==============================] - 5s 3ms/step - loss: 0.7159 - accuracy: 0.7677 - val_loss: 0.5069 - val_accuracy: 0.8356\n",
            "Epoch 2/30\n",
            "1719/1719 [==============================] - 5s 3ms/step - loss: 0.4897 - accuracy: 0.8301 - val_loss: 0.4783 - val_accuracy: 0.8436\n",
            "Epoch 3/30\n",
            "1719/1719 [==============================] - 5s 3ms/step - loss: 0.4451 - accuracy: 0.8450 - val_loss: 0.4218 - val_accuracy: 0.8558\n",
            "Epoch 4/30\n",
            "1719/1719 [==============================] - 5s 3ms/step - loss: 0.4151 - accuracy: 0.8554 - val_loss: 0.3947 - val_accuracy: 0.8618\n",
            "Epoch 5/30\n",
            "1719/1719 [==============================] - 5s 3ms/step - loss: 0.3949 - accuracy: 0.8615 - val_loss: 0.3944 - val_accuracy: 0.8592\n",
            "Epoch 6/30\n",
            "1719/1719 [==============================] - 5s 3ms/step - loss: 0.3781 - accuracy: 0.8665 - val_loss: 0.3701 - val_accuracy: 0.8740\n",
            "Epoch 7/30\n",
            "1719/1719 [==============================] - 5s 3ms/step - loss: 0.3659 - accuracy: 0.8704 - val_loss: 0.3724 - val_accuracy: 0.8708\n",
            "Epoch 8/30\n",
            "1719/1719 [==============================] - 5s 3ms/step - loss: 0.3548 - accuracy: 0.8759 - val_loss: 0.3493 - val_accuracy: 0.8764\n",
            "Epoch 9/30\n",
            "1719/1719 [==============================] - 5s 3ms/step - loss: 0.3443 - accuracy: 0.8770 - val_loss: 0.3677 - val_accuracy: 0.8728\n",
            "Epoch 10/30\n",
            "1719/1719 [==============================] - 5s 3ms/step - loss: 0.3352 - accuracy: 0.8817 - val_loss: 0.3459 - val_accuracy: 0.8774\n",
            "Epoch 11/30\n",
            "1719/1719 [==============================] - 5s 3ms/step - loss: 0.3267 - accuracy: 0.8833 - val_loss: 0.3523 - val_accuracy: 0.8752\n",
            "Epoch 12/30\n",
            "1719/1719 [==============================] - 5s 3ms/step - loss: 0.3189 - accuracy: 0.8864 - val_loss: 0.3337 - val_accuracy: 0.8840\n",
            "Epoch 13/30\n",
            "1719/1719 [==============================] - 5s 3ms/step - loss: 0.3116 - accuracy: 0.8877 - val_loss: 0.3257 - val_accuracy: 0.8834\n",
            "Epoch 14/30\n",
            "1719/1719 [==============================] - 5s 3ms/step - loss: 0.3050 - accuracy: 0.8901 - val_loss: 0.3350 - val_accuracy: 0.8798\n",
            "Epoch 15/30\n",
            "1719/1719 [==============================] - 5s 3ms/step - loss: 0.2981 - accuracy: 0.8923 - val_loss: 0.3222 - val_accuracy: 0.8878\n",
            "Epoch 16/30\n",
            "1719/1719 [==============================] - 5s 3ms/step - loss: 0.2910 - accuracy: 0.8955 - val_loss: 0.3240 - val_accuracy: 0.8864\n",
            "Epoch 17/30\n",
            "1719/1719 [==============================] - 5s 3ms/step - loss: 0.2861 - accuracy: 0.8964 - val_loss: 0.3187 - val_accuracy: 0.8858\n",
            "Epoch 18/30\n",
            "1719/1719 [==============================] - 5s 3ms/step - loss: 0.2800 - accuracy: 0.8992 - val_loss: 0.3265 - val_accuracy: 0.8822\n",
            "Epoch 19/30\n",
            "1719/1719 [==============================] - 5s 3ms/step - loss: 0.2753 - accuracy: 0.9005 - val_loss: 0.3074 - val_accuracy: 0.8906\n",
            "Epoch 20/30\n",
            "1719/1719 [==============================] - 5s 3ms/step - loss: 0.2694 - accuracy: 0.9022 - val_loss: 0.3214 - val_accuracy: 0.8836\n",
            "Epoch 21/30\n",
            "1719/1719 [==============================] - 5s 3ms/step - loss: 0.2654 - accuracy: 0.9052 - val_loss: 0.3013 - val_accuracy: 0.8908\n",
            "Epoch 22/30\n",
            "1719/1719 [==============================] - 5s 3ms/step - loss: 0.2608 - accuracy: 0.9058 - val_loss: 0.3052 - val_accuracy: 0.8920\n",
            "Epoch 23/30\n",
            "1719/1719 [==============================] - 5s 3ms/step - loss: 0.2556 - accuracy: 0.9075 - val_loss: 0.3047 - val_accuracy: 0.8884\n",
            "Epoch 24/30\n",
            "1719/1719 [==============================] - 5s 3ms/step - loss: 0.2519 - accuracy: 0.9092 - val_loss: 0.3064 - val_accuracy: 0.8898\n",
            "Epoch 25/30\n",
            "1719/1719 [==============================] - 5s 3ms/step - loss: 0.2475 - accuracy: 0.9111 - val_loss: 0.3102 - val_accuracy: 0.8926\n",
            "Epoch 26/30\n",
            "1719/1719 [==============================] - 5s 3ms/step - loss: 0.2428 - accuracy: 0.9120 - val_loss: 0.3024 - val_accuracy: 0.8866\n",
            "Epoch 27/30\n",
            "1719/1719 [==============================] - 5s 3ms/step - loss: 0.2388 - accuracy: 0.9140 - val_loss: 0.2988 - val_accuracy: 0.8948\n",
            "Epoch 28/30\n",
            "1719/1719 [==============================] - 5s 3ms/step - loss: 0.2352 - accuracy: 0.9154 - val_loss: 0.2901 - val_accuracy: 0.8956\n",
            "Epoch 29/30\n",
            "1719/1719 [==============================] - 5s 3ms/step - loss: 0.2314 - accuracy: 0.9167 - val_loss: 0.3019 - val_accuracy: 0.8862\n",
            "Epoch 30/30\n",
            "1719/1719 [==============================] - 5s 3ms/step - loss: 0.2279 - accuracy: 0.9178 - val_loss: 0.3163 - val_accuracy: 0.8902\n"
          ],
          "name": "stdout"
        }
      ]
    },
    {
      "cell_type": "code",
      "metadata": {
        "id": "kkqKAurkBm98",
        "outputId": "26b03643-68b5-4e1f-d797-414a86f77425",
        "colab": {
          "base_uri": "https://localhost:8080/",
          "height": 1000
        }
      },
      "source": [
        "history.history"
      ],
      "execution_count": 30,
      "outputs": [
        {
          "output_type": "execute_result",
          "data": {
            "text/plain": [
              "{'accuracy': [0.7677454352378845,\n",
              "  0.8301454782485962,\n",
              "  0.8449817895889282,\n",
              "  0.8554182052612305,\n",
              "  0.8615454435348511,\n",
              "  0.8664727210998535,\n",
              "  0.8703818321228027,\n",
              "  0.8758545517921448,\n",
              "  0.8770363926887512,\n",
              "  0.8816909193992615,\n",
              "  0.8833272457122803,\n",
              "  0.8863818049430847,\n",
              "  0.8876545429229736,\n",
              "  0.8900908827781677,\n",
              "  0.8923272490501404,\n",
              "  0.8954908847808838,\n",
              "  0.8964181542396545,\n",
              "  0.8992363810539246,\n",
              "  0.90052729845047,\n",
              "  0.9021636247634888,\n",
              "  0.9051818251609802,\n",
              "  0.9058363437652588,\n",
              "  0.9074727296829224,\n",
              "  0.9092000126838684,\n",
              "  0.9110545516014099,\n",
              "  0.9119818210601807,\n",
              "  0.9139999747276306,\n",
              "  0.9154363870620728,\n",
              "  0.9167272448539734,\n",
              "  0.9177818298339844],\n",
              " 'loss': [0.7159072160720825,\n",
              "  0.4896719455718994,\n",
              "  0.4450939893722534,\n",
              "  0.4151242673397064,\n",
              "  0.3948867917060852,\n",
              "  0.37805888056755066,\n",
              "  0.36593934893608093,\n",
              "  0.3548036217689514,\n",
              "  0.3442942202091217,\n",
              "  0.3352419137954712,\n",
              "  0.32667577266693115,\n",
              "  0.31886622309684753,\n",
              "  0.311596155166626,\n",
              "  0.3049572706222534,\n",
              "  0.2981477975845337,\n",
              "  0.2910490334033966,\n",
              "  0.2861427664756775,\n",
              "  0.2800281345844269,\n",
              "  0.2753325402736664,\n",
              "  0.2694283127784729,\n",
              "  0.2653956711292267,\n",
              "  0.2608461380004883,\n",
              "  0.2555842995643616,\n",
              "  0.2518562376499176,\n",
              "  0.24749645590782166,\n",
              "  0.24279077351093292,\n",
              "  0.23877885937690735,\n",
              "  0.23523181676864624,\n",
              "  0.23144842684268951,\n",
              "  0.22788889706134796],\n",
              " 'val_accuracy': [0.8356000185012817,\n",
              "  0.8435999751091003,\n",
              "  0.8557999730110168,\n",
              "  0.8618000149726868,\n",
              "  0.8592000007629395,\n",
              "  0.8740000128746033,\n",
              "  0.8708000183105469,\n",
              "  0.8763999938964844,\n",
              "  0.8727999925613403,\n",
              "  0.8773999810218811,\n",
              "  0.8751999735832214,\n",
              "  0.8840000033378601,\n",
              "  0.883400022983551,\n",
              "  0.879800021648407,\n",
              "  0.8877999782562256,\n",
              "  0.8863999843597412,\n",
              "  0.8858000040054321,\n",
              "  0.8822000026702881,\n",
              "  0.8906000256538391,\n",
              "  0.8835999965667725,\n",
              "  0.8907999992370605,\n",
              "  0.8920000195503235,\n",
              "  0.8884000182151794,\n",
              "  0.8898000121116638,\n",
              "  0.8925999999046326,\n",
              "  0.8866000175476074,\n",
              "  0.8948000073432922,\n",
              "  0.8956000208854675,\n",
              "  0.8862000107765198,\n",
              "  0.8902000188827515],\n",
              " 'val_loss': [0.5068814158439636,\n",
              "  0.47832930088043213,\n",
              "  0.4218118190765381,\n",
              "  0.3947107195854187,\n",
              "  0.3943948447704315,\n",
              "  0.3700726330280304,\n",
              "  0.3723866641521454,\n",
              "  0.34928953647613525,\n",
              "  0.3676760196685791,\n",
              "  0.3458545506000519,\n",
              "  0.35233110189437866,\n",
              "  0.3336953818798065,\n",
              "  0.325710654258728,\n",
              "  0.33496883511543274,\n",
              "  0.32223400473594666,\n",
              "  0.32402148842811584,\n",
              "  0.3187064826488495,\n",
              "  0.32650330662727356,\n",
              "  0.3074421286582947,\n",
              "  0.3214074373245239,\n",
              "  0.30134692788124084,\n",
              "  0.30520176887512207,\n",
              "  0.30472317337989807,\n",
              "  0.3063713014125824,\n",
              "  0.31020480394363403,\n",
              "  0.3024192750453949,\n",
              "  0.2988332509994507,\n",
              "  0.29007449746131897,\n",
              "  0.3019396662712097,\n",
              "  0.31630849838256836]}"
            ]
          },
          "metadata": {
            "tags": []
          },
          "execution_count": 30
        }
      ]
    },
    {
      "cell_type": "code",
      "metadata": {
        "id": "q2KbxTMcHHx6",
        "outputId": "16762e20-32c6-49f7-9b97-da418eab3691",
        "colab": {
          "base_uri": "https://localhost:8080/",
          "height": 328
        }
      },
      "source": [
        "pd.DataFrame(history.history).plot(figsize = (8,5))      #here is the main for plot\n",
        "plt.grid(True)\n",
        "plt.gca().set_ylim(0,1)        #Set vertical range (0,1)\n",
        "plt.show()"
      ],
      "execution_count": 31,
      "outputs": [
        {
          "output_type": "display_data",
          "data": {
            "image/png": "[encoded data removed]",
            "text/plain": [
              "<Figure size 576x360 with 1 Axes>"
            ]
          },
          "metadata": {
            "tags": [],
            "needs_background": "light"
          }
        }
      ]
    },
    {
      "cell_type": "code",
      "metadata": {
        "id": "T4tns0jWHjSj",
        "outputId": "e80f8ed3-938d-4dfe-db2c-a9eb3adb944d",
        "colab": {
          "base_uri": "https://localhost:8080/",
          "height": 34
        }
      },
      "source": [
        "history.params"
      ],
      "execution_count": 32,
      "outputs": [
        {
          "output_type": "execute_result",
          "data": {
            "text/plain": [
              "{'epochs': 30, 'steps': 1719, 'verbose': 1}"
            ]
          },
          "metadata": {
            "tags": []
          },
          "execution_count": 32
        }
      ]
    },
    {
      "cell_type": "code",
      "metadata": {
        "id": "U5fPCVbNP7p3",
        "outputId": "8474687e-bab8-49af-99cc-0406ac7a1d8a",
        "colab": {
          "base_uri": "https://localhost:8080/",
          "height": 72
        }
      },
      "source": [
        "model.evaluate(X_test,y_test)"
      ],
      "execution_count": 33,
      "outputs": [
        {
          "output_type": "stream",
          "text": [
            "313/313 [==============================] - 0s 2ms/step - loss: 0.3428 - accuracy: 0.8784\n"
          ],
          "name": "stdout"
        },
        {
          "output_type": "execute_result",
          "data": {
            "text/plain": [
              "[0.34276437759399414, 0.8784000277519226]"
            ]
          },
          "metadata": {
            "tags": []
          },
          "execution_count": 33
        }
      ]
    },
    {
      "cell_type": "markdown",
      "metadata": {
        "id": "s0dxRb5RQrAH"
      },
      "source": [
        "Since we don’t have actual new instances, we will just use the first three instances of the test set"
      ]
    },
    {
      "cell_type": "code",
      "metadata": {
        "id": "rrmKY5_aRHkB"
      },
      "source": [
        "X_new = X_test[:3]\n",
        "y_prob = model.predict(X_new)\n"
      ],
      "execution_count": 34,
      "outputs": []
    },
    {
      "cell_type": "code",
      "metadata": {
        "id": "1EWuXbm4Xp-2",
        "outputId": "ba80f438-6af7-43b5-90a6-47f169b860ef",
        "colab": {
          "base_uri": "https://localhost:8080/",
          "height": 173
        }
      },
      "source": [
        "y_prob"
      ],
      "execution_count": 36,
      "outputs": [
        {
          "output_type": "execute_result",
          "data": {
            "text/plain": [
              "array([[1.37659652e-06, 2.82682549e-07, 6.08413620e-06, 6.83192684e-06,\n",
              "        2.39312685e-05, 5.54492371e-03, 1.28157717e-06, 1.14986161e-02,\n",
              "        3.63805913e-04, 9.82552886e-01],\n",
              "       [1.41860219e-05, 2.18382934e-09, 9.98119533e-01, 2.96894136e-08,\n",
              "        1.85322063e-03, 5.22957407e-11, 1.31335455e-05, 1.78658789e-11,\n",
              "        8.44722781e-09, 6.26429533e-11],\n",
              "       [1.04111923e-05, 9.99988914e-01, 3.49716572e-07, 2.15959986e-07,\n",
              "        1.21494622e-07, 1.31687742e-11, 2.35022002e-09, 2.69336116e-11,\n",
              "        1.52949167e-10, 1.45735496e-12]], dtype=float32)"
            ]
          },
          "metadata": {
            "tags": []
          },
          "execution_count": 36
        }
      ]
    },
    {
      "cell_type": "code",
      "metadata": {
        "id": "kK74DiqCXs-f",
        "outputId": "f9f3d2ac-95d5-4085-be10-2f3555313927",
        "colab": {
          "base_uri": "https://localhost:8080/",
          "height": 86
        }
      },
      "source": [
        "y_prob.round(2)       #taking roundoff"
      ],
      "execution_count": 37,
      "outputs": [
        {
          "output_type": "execute_result",
          "data": {
            "text/plain": [
              "array([[0.  , 0.  , 0.  , 0.  , 0.  , 0.01, 0.  , 0.01, 0.  , 0.98],\n",
              "       [0.  , 0.  , 1.  , 0.  , 0.  , 0.  , 0.  , 0.  , 0.  , 0.  ],\n",
              "       [0.  , 1.  , 0.  , 0.  , 0.  , 0.  , 0.  , 0.  , 0.  , 0.  ]],\n",
              "      dtype=float32)"
            ]
          },
          "metadata": {
            "tags": []
          },
          "execution_count": 37
        }
      ]
    },
    {
      "cell_type": "code",
      "metadata": {
        "id": "8GBuGyUqX0Lj",
        "outputId": "bd36ace6-6d11-4a98-d8a5-38d5a5d49ede",
        "colab": {
          "base_uri": "https://localhost:8080/",
          "height": 89
        }
      },
      "source": [
        "y_pred = model.predict_classes(X_new)"
      ],
      "execution_count": 38,
      "outputs": [
        {
          "output_type": "stream",
          "text": [
            "WARNING:tensorflow:From <ipython-input-38-53f3df9ca645>:1: Sequential.predict_classes (from tensorflow.python.keras.engine.sequential) is deprecated and will be removed after 2021-01-01.\n",
            "Instructions for updating:\n",
            "Please use instead:* `np.argmax(model.predict(x), axis=-1)`,   if your model does multi-class classification   (e.g. if it uses a `softmax` last-layer activation).* `(model.predict(x) > 0.5).astype(\"int32\")`,   if your model does binary classification   (e.g. if it uses a `sigmoid` last-layer activation).\n"
          ],
          "name": "stdout"
        }
      ]
    },
    {
      "cell_type": "code",
      "metadata": {
        "id": "f4GM63KWYOiF",
        "outputId": "d577df43-c181-4d6d-e537-3d56bf7d0039",
        "colab": {
          "base_uri": "https://localhost:8080/",
          "height": 34
        }
      },
      "source": [
        "y_pred"
      ],
      "execution_count": 39,
      "outputs": [
        {
          "output_type": "execute_result",
          "data": {
            "text/plain": [
              "array([9, 2, 1])"
            ]
          },
          "metadata": {
            "tags": []
          },
          "execution_count": 39
        }
      ]
    },
    {
      "cell_type": "code",
      "metadata": {
        "id": "7P7ULOwwYUP6",
        "outputId": "c410d94d-890c-4f02-8a17-045d2583e958",
        "colab": {
          "base_uri": "https://localhost:8080/",
          "height": 34
        }
      },
      "source": [
        "np.array(class_names)[y_pred]"
      ],
      "execution_count": 40,
      "outputs": [
        {
          "output_type": "execute_result",
          "data": {
            "text/plain": [
              "array(['Ankle boot', 'Pullover', 'Trouser'], dtype='<U11')"
            ]
          },
          "metadata": {
            "tags": []
          },
          "execution_count": 40
        }
      ]
    },
    {
      "cell_type": "code",
      "metadata": {
        "id": "zlr7HqaZYbTm"
      },
      "source": [
        ""
      ],
      "execution_count": null,
      "outputs": []
    }
  ]
}