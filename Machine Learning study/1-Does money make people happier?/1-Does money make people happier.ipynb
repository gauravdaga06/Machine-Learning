{
 "cells": [
  {
   "cell_type": "code",
   "execution_count": 1,
   "metadata": {},
   "outputs": [],
   "source": [
    "# Python ≥3.5 is required\n",
    "import sys\n",
    "assert sys.version_info >= (3, 5)"
   ]
  },
  {
   "cell_type": "code",
   "execution_count": 2,
   "metadata": {},
   "outputs": [],
   "source": [
    "# Scikit-Learn ≥0.20 is required\n",
    "import sklearn\n",
    "assert sklearn.__version__ >= \"0.20\""
   ]
  },
  {
   "cell_type": "code",
   "execution_count": 3,
   "metadata": {},
   "outputs": [],
   "source": [
    "import matplotlib.pyplot as plt "
   ]
  },
  {
   "cell_type": "code",
   "execution_count": 4,
   "metadata": {},
   "outputs": [],
   "source": [
    "import numpy as np"
   ]
  },
  {
   "cell_type": "code",
   "execution_count": 5,
   "metadata": {},
   "outputs": [],
   "source": [
    "import pandas as pd"
   ]
  },
  {
   "cell_type": "code",
   "execution_count": 6,
   "metadata": {},
   "outputs": [],
   "source": [
    "import sklearn.linear_model"
   ]
  },
  {
   "cell_type": "code",
   "execution_count": 7,
   "metadata": {},
   "outputs": [],
   "source": [
    "oecd_bli = pd.read_csv(\"oecd_bli_2015.csv\", thousands=',')"
   ]
  },
  {
   "cell_type": "code",
   "execution_count": 8,
   "metadata": {},
   "outputs": [],
   "source": [
    "gdp_per_capita = pd.read_csv(\"gdp_per_capita.csv\",thousands=',',delimiter='\\t', encoding='latin1', na_values=\"n/a\")"
   ]
  },
  {
   "cell_type": "code",
   "execution_count": 9,
   "metadata": {},
   "outputs": [
    {
     "name": "stdout",
     "output_type": "stream",
     "text": [
      "  LOCATION         Country INDICATOR                 Indicator MEASURE  \\\n",
      "0      AUS       Australia   JE_LMIS  Labour market insecurity       L   \n",
      "1      AUT         Austria   JE_LMIS  Labour market insecurity       L   \n",
      "2      BEL         Belgium   JE_LMIS  Labour market insecurity       L   \n",
      "3      CAN          Canada   JE_LMIS  Labour market insecurity       L   \n",
      "4      CZE  Czech Republic   JE_LMIS  Labour market insecurity       L   \n",
      "\n",
      "  Measure INEQUALITY Inequality Unit Code        Unit  PowerCode Code  \\\n",
      "0   Value        TOT      Total        PC  Percentage               0   \n",
      "1   Value        TOT      Total        PC  Percentage               0   \n",
      "2   Value        TOT      Total        PC  Percentage               0   \n",
      "3   Value        TOT      Total        PC  Percentage               0   \n",
      "4   Value        TOT      Total        PC  Percentage               0   \n",
      "\n",
      "  PowerCode  Reference Period Code  Reference Period  Value  Flag Codes  Flags  \n",
      "0     Units                    NaN               NaN    5.4         NaN    NaN  \n",
      "1     Units                    NaN               NaN    3.5         NaN    NaN  \n",
      "2     Units                    NaN               NaN    3.7         NaN    NaN  \n",
      "3     Units                    NaN               NaN    6.0         NaN    NaN  \n",
      "4     Units                    NaN               NaN    3.1         NaN    NaN  \n"
     ]
    }
   ],
   "source": [
    "print(oecd_bli.head())"
   ]
  },
  {
   "cell_type": "code",
   "execution_count": 10,
   "metadata": {},
   "outputs": [
    {
     "name": "stdout",
     "output_type": "stream",
     "text": [
      "               Country                                 Subject Descriptor  \\\n",
      "0          Afghanistan  Gross domestic product per capita, current prices   \n",
      "1              Albania  Gross domestic product per capita, current prices   \n",
      "2              Algeria  Gross domestic product per capita, current prices   \n",
      "3               Angola  Gross domestic product per capita, current prices   \n",
      "4  Antigua and Barbuda  Gross domestic product per capita, current prices   \n",
      "\n",
      "          Units  Scale                      Country/Series-specific Notes  \\\n",
      "0  U.S. dollars  Units  See notes for:  Gross domestic product, curren...   \n",
      "1  U.S. dollars  Units  See notes for:  Gross domestic product, curren...   \n",
      "2  U.S. dollars  Units  See notes for:  Gross domestic product, curren...   \n",
      "3  U.S. dollars  Units  See notes for:  Gross domestic product, curren...   \n",
      "4  U.S. dollars  Units  See notes for:  Gross domestic product, curren...   \n",
      "\n",
      "        2015 Estimates Start After,,,  \n",
      "0    599.994                    2013,  \n",
      "1   3995.383                     2010  \n",
      "2   4318.135                     2014  \n",
      "3   4100.315                     2014  \n",
      "4  14414.302                     2011  \n"
     ]
    }
   ],
   "source": [
    "print(gdp_per_capita.head())"
   ]
  },
  {
   "cell_type": "markdown",
   "metadata": {},
   "source": [
    "This function just merges the OECD's life satisfaction data and the IMF's GDP per capita data."
   ]
  },
  {
   "cell_type": "code",
   "execution_count": 11,
   "metadata": {},
   "outputs": [],
   "source": [
    "def prepare_country_stats(oecd_bli, gdp_per_capita):\n",
    "    oecd_bli = oecd_bli[oecd_bli[\"INEQUALITY\"]==\"TOT\"]\n",
    "    oecd_bli = oecd_bli.pivot(index=\"Country\", columns=\"Indicator\", values=\"Value\")\n",
    "    gdp_per_capita.rename(columns={\"2015\": \"GDP per capita\"}, inplace=True)\n",
    "    gdp_per_capita.set_index(\"Country\", inplace=True)\n",
    "    full_country_stats = pd.merge(left=oecd_bli, right=gdp_per_capita,\n",
    "                                  left_index=True, right_index=True)\n",
    "    full_country_stats.sort_values(by=\"GDP per capita\", inplace=True)\n",
    "    remove_indices = [0, 1, 6, 8, 33, 34, 35]\n",
    "    keep_indices = list(set(range(36)) - set(remove_indices))\n",
    "    return full_country_stats[[\"GDP per capita\", 'Life satisfaction']].iloc[keep_indices]"
   ]
  },
  {
   "cell_type": "code",
   "execution_count": 12,
   "metadata": {},
   "outputs": [],
   "source": [
    "country_stats = prepare_country_stats(oecd_bli, gdp_per_capita)\n",
    "X = np.c_[country_stats[\"GDP per capita\"]] \n",
    "y = np.c_[country_stats[\"Life satisfaction\"]]"
   ]
  },
  {
   "cell_type": "code",
   "execution_count": 13,
   "metadata": {},
   "outputs": [
    {
     "name": "stdout",
     "output_type": "stream",
     "text": [
      "                 GDP per capita  Life satisfaction\n",
      "Country                                           \n",
      "Brazil                 8669.998                6.4\n",
      "Mexico                 9009.280                6.5\n",
      "Russia                 9054.914                5.8\n",
      "Turkey                 9437.372                5.5\n",
      "Poland                12495.334                6.1\n",
      "Latvia                13618.569                5.9\n",
      "Lithuania             14210.280                5.9\n",
      "Slovak Republic       15991.736                6.2\n",
      "Czech Republic        17256.918                6.7\n",
      "Estonia               17288.083                5.7\n",
      "Greece                18064.288                5.4\n",
      "Portugal              19121.592                5.4\n",
      "Slovenia              20732.482                5.9\n",
      "Spain                 25864.721                6.3\n",
      "Korea                 27195.197                5.9\n",
      "Italy                 29866.581                6.0\n",
      "Japan                 32485.545                5.9\n",
      "Israel                35343.336                7.2\n",
      "New Zealand           37044.891                7.3\n",
      "France                37675.006                6.5\n",
      "Belgium               40106.632                6.9\n",
      "Germany               40996.511                7.0\n",
      "Finland               41973.988                7.6\n",
      "Canada                43331.961                7.4\n",
      "Netherlands           43603.115                7.4\n",
      "Austria               43724.031                7.1\n",
      "United Kingdom        43770.688                6.8\n",
      "Sweden                49866.266                7.3\n",
      "Iceland               50854.583                7.5\n"
     ]
    }
   ],
   "source": [
    "print(country_stats)"
   ]
  },
  {
   "cell_type": "code",
   "execution_count": 14,
   "metadata": {},
   "outputs": [
    {
     "data": {
      "image/png": "[encoded data removed]",
      "text/plain": [
       "<Figure size 432x288 with 1 Axes>"
      ]
     },
     "metadata": {
      "needs_background": "light"
     },
     "output_type": "display_data"
    }
   ],
   "source": [
    "country_stats.plot(kind='scatter', x=\"GDP per capita\", y='Life satisfaction')\n",
    "plt.show()"
   ]
  },
  {
   "cell_type": "code",
   "execution_count": 15,
   "metadata": {},
   "outputs": [],
   "source": [
    "model = sklearn.linear_model.LinearRegression()"
   ]
  },
  {
   "cell_type": "code",
   "execution_count": 16,
   "metadata": {},
   "outputs": [
    {
     "data": {
      "text/plain": [
       "LinearRegression()"
      ]
     },
     "execution_count": 16,
     "metadata": {},
     "output_type": "execute_result"
    }
   ],
   "source": [
    "model.fit(X,y)"
   ]
  },
  {
   "cell_type": "code",
   "execution_count": 17,
   "metadata": {},
   "outputs": [],
   "source": [
    "X_new = [[22587]] # Cyprus's GDP per capita print(model.predict(X_new)) # outputs [[ 5.96242338]]"
   ]
  },
  {
   "cell_type": "code",
   "execution_count": 18,
   "metadata": {},
   "outputs": [
    {
     "name": "stdout",
     "output_type": "stream",
     "text": [
      "[[6.25984414]]\n"
     ]
    }
   ],
   "source": [
    "print(model.predict(X_new))"
   ]
  }
 ],
 "metadata": {
  "kernelspec": {
   "display_name": "Python 3",
   "language": "python",
   "name": "python3"
  },
  "language_info": {
   "codemirror_mode": {
    "name": "ipython",
    "version": 3
   },
   "file_extension": ".py",
   "mimetype": "text/x-python",
   "name": "python",
   "nbconvert_exporter": "python",
   "pygments_lexer": "ipython3",
   "version": "3.8.3"
  }
 },
 "nbformat": 4,
 "nbformat_minor": 4
}
